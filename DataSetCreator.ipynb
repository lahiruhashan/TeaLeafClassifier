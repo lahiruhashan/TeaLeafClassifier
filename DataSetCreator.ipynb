{
 "cells": [
  {
   "cell_type": "code",
   "execution_count": 25,
   "metadata": {
    "collapsed": true,
    "pycharm": {
     "is_executing": false
    }
   },
   "outputs": [],
   "source": [
    "import numpy as np\n",
    "import matplotlib.pyplot as plt\n",
    "import os\n",
    "import cv2\n",
    "from tqdm import tqdm\n",
    "from pathlib import Path\n"
   ]
  },
  {
   "cell_type": "code",
   "execution_count": 26,
   "outputs": [
    {
     "data": {
      "text/plain": "<Figure size 432x288 with 1 Axes>",
      "image/png": "[encoded data removed]"
     },
     "metadata": {
      "needs_background": "light"
     },
     "output_type": "display_data"
    }
   ],
   "source": [
    "home_dir = str(Path.home())\n",
    "DATADIR_TRAIN = home_dir + \"/Documents/preprocessed-tea-leaf-dataset/train\"\n",
    "DATADIR_TEST = home_dir + \"/Documents/preprocessed-tea-leaf-dataset/test\"\n",
    "\n",
    "CATEGORIES = [\"ready\", \"not-ready\"]\n",
    "\n",
    "for category in CATEGORIES:\n",
    "    path = os.path.join(DATADIR_TEST,category)\n",
    "    for img in os.listdir(path):\n",
    "        img_array = cv2.imread(os.path.join(path,img))\n",
    "        plt.imshow(img_array, cmap='gray')\n",
    "        plt.show()\n",
    "        break \n",
    "    break \n",
    "    "
   ],
   "metadata": {
    "collapsed": false,
    "pycharm": {
     "name": "#%%\n",
     "is_executing": false
    }
   }
  },
  {
   "cell_type": "code",
   "execution_count": 27,
   "outputs": [
    {
     "name": "stderr",
     "text": [
      "\r  0%|          | 0/576 [00:00<?, ?it/s]",
      "\r  1%|          | 5/576 [00:00<00:11, 48.01it/s]",
      "\r  2%|▏         | 11/576 [00:00<00:11, 50.26it/s]",
      "\r  3%|▎         | 17/576 [00:00<00:10, 51.06it/s]",
      "\r  4%|▍         | 22/576 [00:00<00:11, 49.91it/s]",
      "\r  5%|▍         | 28/576 [00:00<00:10, 50.99it/s]",
      "\r  6%|▌         | 34/576 [00:00<00:10, 52.12it/s]",
      "\r  7%|▋         | 40/576 [00:00<00:10, 52.32it/s]",
      "\r  8%|▊         | 46/576 [00:00<00:09, 53.81it/s]",
      "\r  9%|▉         | 52/576 [00:00<00:09, 54.61it/s]",
      "\r 10%|█         | 58/576 [00:01<00:09, 54.05it/s]",
      "\r 11%|█         | 64/576 [00:01<00:09, 54.66it/s]",
      "\r 12%|█▏        | 70/576 [00:01<00:09, 55.48it/s]",
      "\r 13%|█▎        | 76/576 [00:01<00:08, 55.56it/s]",
      "\r 14%|█▍        | 82/576 [00:01<00:08, 55.77it/s]",
      "\r 15%|█▌        | 88/576 [00:01<00:09, 54.04it/s]",
      "\r 16%|█▋        | 94/576 [00:01<00:08, 54.28it/s]",
      "\r 17%|█▋        | 100/576 [00:01<00:08, 54.94it/s]",
      "\r 18%|█▊        | 106/576 [00:01<00:08, 53.58it/s]",
      "\r 19%|█▉        | 112/576 [00:02<00:08, 53.51it/s]",
      "\r 20%|██        | 118/576 [00:02<00:08, 54.35it/s]",
      "\r 22%|██▏       | 124/576 [00:02<00:08, 53.11it/s]",
      "\r 23%|██▎       | 130/576 [00:02<00:08, 53.13it/s]",
      "\r 24%|██▎       | 136/576 [00:02<00:08, 54.15it/s]",
      "\r 25%|██▍       | 142/576 [00:02<00:08, 54.05it/s]",
      "\r 26%|██▌       | 148/576 [00:02<00:07, 53.90it/s]",
      "\r 27%|██▋       | 154/576 [00:02<00:07, 54.78it/s]",
      "\r 28%|██▊       | 160/576 [00:02<00:07, 54.46it/s]",
      "\r 29%|██▉       | 166/576 [00:03<00:07, 53.63it/s]",
      "\r 30%|██▉       | 172/576 [00:03<00:07, 54.71it/s]",
      "\r 31%|███       | 178/576 [00:03<00:07, 54.52it/s]",
      "\r 32%|███▏      | 184/576 [00:03<00:07, 54.84it/s]",
      "\r 33%|███▎      | 190/576 [00:03<00:06, 55.64it/s]",
      "\r 34%|███▍      | 196/576 [00:03<00:06, 55.25it/s]",
      "\r 35%|███▌      | 202/576 [00:03<00:06, 53.61it/s]",
      "\r 36%|███▌      | 208/576 [00:03<00:06, 53.90it/s]",
      "\r 37%|███▋      | 214/576 [00:03<00:06, 54.38it/s]",
      "\r 38%|███▊      | 220/576 [00:04<00:06, 54.32it/s]",
      "\r 39%|███▉      | 226/576 [00:04<00:06, 54.87it/s]",
      "\r 40%|████      | 232/576 [00:04<00:06, 54.18it/s]",
      "\r 41%|████▏     | 238/576 [00:04<00:06, 54.31it/s]",
      "\r 42%|████▏     | 244/576 [00:04<00:06, 54.79it/s]",
      "\r 43%|████▎     | 250/576 [00:04<00:06, 52.90it/s]",
      "\r 44%|████▍     | 256/576 [00:04<00:05, 53.59it/s]",
      "\r 45%|████▌     | 262/576 [00:04<00:05, 53.90it/s]",
      "\r 47%|████▋     | 268/576 [00:04<00:05, 51.52it/s]",
      "\r 48%|████▊     | 274/576 [00:05<00:05, 52.58it/s]",
      "\r 49%|████▊     | 280/576 [00:05<00:05, 53.48it/s]",
      "\r 50%|████▉     | 286/576 [00:05<00:05, 50.94it/s]",
      "\r 51%|█████     | 292/576 [00:05<00:05, 51.33it/s]",
      "\r 52%|█████▏    | 298/576 [00:05<00:05, 52.33it/s]",
      "\r 53%|█████▎    | 304/576 [00:05<00:05, 51.56it/s]",
      "\r 54%|█████▍    | 310/576 [00:05<00:05, 51.58it/s]",
      "\r 55%|█████▍    | 316/576 [00:05<00:05, 51.59it/s]",
      "\r 56%|█████▌    | 322/576 [00:06<00:05, 49.71it/s]",
      "\r 57%|█████▋    | 328/576 [00:06<00:04, 50.94it/s]",
      "\r 58%|█████▊    | 334/576 [00:06<00:04, 52.66it/s]",
      "\r 59%|█████▉    | 340/576 [00:06<00:04, 50.99it/s]",
      "\r 60%|██████    | 346/576 [00:06<00:04, 51.10it/s]",
      "\r 61%|██████    | 352/576 [00:06<00:04, 52.19it/s]",
      "\r 62%|██████▏   | 358/576 [00:06<00:04, 51.21it/s]",
      "\r 63%|██████▎   | 364/576 [00:06<00:04, 51.83it/s]",
      "\r 64%|██████▍   | 370/576 [00:06<00:03, 52.66it/s]",
      "\r 65%|██████▌   | 376/576 [00:07<00:04, 45.40it/s]",
      "\r 66%|██████▋   | 382/576 [00:07<00:04, 47.53it/s]",
      "\r 67%|██████▋   | 388/576 [00:07<00:03, 49.66it/s]",
      "\r 68%|██████▊   | 394/576 [00:07<00:03, 50.16it/s]",
      "\r 69%|██████▉   | 400/576 [00:07<00:03, 50.78it/s]",
      "\r 70%|███████   | 406/576 [00:07<00:03, 51.73it/s]",
      "\r 72%|███████▏  | 412/576 [00:07<00:03, 51.66it/s]",
      "\r 73%|███████▎  | 418/576 [00:07<00:03, 52.34it/s]",
      "\r 74%|███████▎  | 424/576 [00:08<00:02, 52.69it/s]",
      "\r 75%|███████▍  | 430/576 [00:08<00:02, 52.00it/s]",
      "\r 76%|███████▌  | 436/576 [00:08<00:02, 52.13it/s]",
      "\r 77%|███████▋  | 442/576 [00:08<00:02, 53.02it/s]",
      "\r 78%|███████▊  | 448/576 [00:08<00:02, 53.29it/s]",
      "\r 79%|███████▉  | 454/576 [00:08<00:02, 52.99it/s]",
      "\r 80%|███████▉  | 460/576 [00:08<00:02, 53.89it/s]",
      "\r 81%|████████  | 466/576 [00:08<00:02, 53.56it/s]",
      "\r 82%|████████▏ | 472/576 [00:08<00:01, 53.70it/s]",
      "\r 83%|████████▎ | 478/576 [00:09<00:01, 53.94it/s]",
      "\r 84%|████████▍ | 484/576 [00:09<00:01, 51.63it/s]",
      "\r 85%|████████▌ | 490/576 [00:09<00:01, 46.58it/s]",
      "\r 86%|████████▌ | 495/576 [00:09<00:01, 45.34it/s]",
      "\r 87%|████████▋ | 500/576 [00:09<00:01, 44.14it/s]",
      "\r 88%|████████▊ | 506/576 [00:09<00:01, 46.45it/s]",
      "\r 89%|████████▉ | 512/576 [00:09<00:01, 49.20it/s]",
      "\r 90%|████████▉ | 518/576 [00:09<00:01, 49.81it/s]",
      "\r 91%|█████████ | 524/576 [00:09<00:01, 50.81it/s]",
      "\r 92%|█████████▏| 530/576 [00:10<00:00, 51.59it/s]",
      "\r 93%|█████████▎| 536/576 [00:10<00:00, 51.37it/s]",
      "\r 94%|█████████▍| 542/576 [00:10<00:00, 51.48it/s]",
      "\r 95%|█████████▌| 548/576 [00:10<00:00, 53.09it/s]",
      "\r 96%|█████████▌| 554/576 [00:10<00:00, 51.89it/s]",
      "\r 97%|█████████▋| 560/576 [00:10<00:00, 52.04it/s]",
      "\r 98%|█████████▊| 566/576 [00:10<00:00, 52.92it/s]",
      "\r 99%|█████████▉| 572/576 [00:10<00:00, 53.12it/s]",
      "\r100%|██████████| 576/576 [00:10<00:00, 52.43it/s]",
      "\n\r  0%|          | 0/383 [00:00<?, ?it/s]",
      "\r  2%|▏         | 7/383 [00:00<00:06, 61.95it/s]",
      "\r  4%|▎         | 14/383 [00:00<00:05, 63.03it/s]",
      "\r  5%|▌         | 20/383 [00:00<00:06, 59.22it/s]",
      "\r  7%|▋         | 27/383 [00:00<00:05, 60.49it/s]",
      "\r  9%|▉         | 34/383 [00:00<00:05, 61.88it/s]",
      "\r 11%|█         | 41/383 [00:00<00:05, 61.40it/s]",
      "\r 13%|█▎        | 48/383 [00:00<00:05, 61.67it/s]",
      "\r 14%|█▍        | 55/383 [00:00<00:05, 63.07it/s]",
      "\r 16%|█▌        | 61/383 [00:00<00:05, 61.27it/s]",
      "\r 18%|█▊        | 68/383 [00:01<00:05, 61.54it/s]",
      "\r 20%|█▉        | 75/383 [00:01<00:04, 63.32it/s]",
      "\r 21%|██▏       | 82/383 [00:01<00:04, 64.59it/s]",
      "\r 23%|██▎       | 89/383 [00:01<00:04, 64.69it/s]",
      "\r 25%|██▌       | 96/383 [00:01<00:04, 65.87it/s]",
      "\r 27%|██▋       | 103/383 [00:01<00:04, 65.93it/s]",
      "\r 29%|██▊       | 110/383 [00:01<00:04, 65.43it/s]",
      "\r 31%|███       | 117/383 [00:01<00:04, 66.24it/s]",
      "\r 32%|███▏      | 124/383 [00:01<00:03, 66.83it/s]",
      "\r 34%|███▍      | 131/383 [00:02<00:03, 66.59it/s]",
      "\r 36%|███▌      | 138/383 [00:02<00:03, 67.52it/s]",
      "\r 38%|███▊      | 145/383 [00:02<00:03, 67.40it/s]",
      "\r 40%|███▉      | 152/383 [00:02<00:03, 66.28it/s]",
      "\r 42%|████▏     | 159/383 [00:02<00:03, 67.02it/s]",
      "\r 43%|████▎     | 166/383 [00:02<00:03, 67.22it/s]",
      "\r 45%|████▌     | 173/383 [00:02<00:03, 66.25it/s]",
      "\r 47%|████▋     | 181/383 [00:02<00:02, 68.28it/s]",
      "\r 49%|████▉     | 188/383 [00:02<00:02, 66.65it/s]",
      "\r 51%|█████     | 195/383 [00:02<00:02, 66.37it/s]",
      "\r 53%|█████▎    | 202/383 [00:03<00:02, 66.85it/s]",
      "\r 55%|█████▍    | 209/383 [00:03<00:03, 56.85it/s]",
      "\r 56%|█████▌    | 215/383 [00:03<00:02, 57.73it/s]",
      "\r 58%|█████▊    | 222/383 [00:03<00:02, 59.48it/s]",
      "\r 60%|█████▉    | 229/383 [00:03<00:02, 59.26it/s]",
      "\r 62%|██████▏   | 236/383 [00:03<00:02, 59.51it/s]",
      "\r 63%|██████▎   | 243/383 [00:03<00:02, 61.14it/s]",
      "\r 65%|██████▌   | 250/383 [00:03<00:02, 60.18it/s]",
      "\r 67%|██████▋   | 257/383 [00:04<00:02, 60.57it/s]",
      "\r 69%|██████▉   | 264/383 [00:04<00:01, 62.94it/s]",
      "\r 71%|███████   | 271/383 [00:04<00:01, 62.97it/s]",
      "\r 73%|███████▎  | 278/383 [00:04<00:01, 63.73it/s]",
      "\r 74%|███████▍  | 285/383 [00:04<00:01, 64.83it/s]",
      "\r 76%|███████▌  | 292/383 [00:04<00:01, 64.92it/s]",
      "\r 78%|███████▊  | 299/383 [00:04<00:01, 65.20it/s]",
      "\r 80%|███████▉  | 306/383 [00:04<00:01, 65.75it/s]",
      "\r 82%|████████▏ | 313/383 [00:04<00:01, 64.35it/s]",
      "\r 84%|████████▎ | 320/383 [00:05<00:00, 64.81it/s]",
      "\r 85%|████████▌ | 327/383 [00:05<00:00, 65.96it/s]",
      "\r 87%|████████▋ | 334/383 [00:05<00:00, 65.82it/s]",
      "\r 89%|████████▉ | 341/383 [00:05<00:00, 65.51it/s]",
      "\r 91%|█████████ | 348/383 [00:05<00:00, 64.40it/s]",
      "\r 93%|█████████▎| 355/383 [00:05<00:00, 62.18it/s]",
      "\r 95%|█████████▍| 362/383 [00:05<00:00, 61.82it/s]",
      "\r 96%|█████████▋| 369/383 [00:05<00:00, 59.95it/s]",
      "\r 98%|█████████▊| 376/383 [00:05<00:00, 58.80it/s]",
      "\r100%|██████████| 383/383 [00:06<00:00, 60.01it/s]",
      "\n"
     ],
     "output_type": "stream"
    }
   ],
   "source": [
    "IMG_SIZE = 50\n",
    "\n",
    "training_data = []\n",
    "testing_data = []\n",
    "def create_training_data():\n",
    "    for category in CATEGORIES:\n",
    "\n",
    "        path = os.path.join(DATADIR_TRAIN,category)\n",
    "        class_num = CATEGORIES.index(category)\n",
    "\n",
    "        for img in tqdm(os.listdir(path)):\n",
    "            try:\n",
    "                img_array = cv2.imread(os.path.join(path,img), cv2.IMREAD_GRAYSCALE)\n",
    "                new_array = cv2.resize(img_array, (IMG_SIZE, IMG_SIZE))\n",
    "                training_data.append([new_array, class_num]) \n",
    "            except Exception as e:\n",
    "                pass\n",
    "\n",
    "create_training_data()\n"
   ],
   "metadata": {
    "collapsed": false,
    "pycharm": {
     "name": "#%%\n",
     "is_executing": false
    }
   }
  },
  {
   "cell_type": "code",
   "execution_count": 28,
   "outputs": [
    {
     "name": "stderr",
     "text": [
      "\r  0%|          | 0/191 [00:00<?, ?it/s]",
      "\r  3%|▎         | 6/191 [00:00<00:03, 53.18it/s]",
      "\r  6%|▌         | 11/191 [00:00<00:03, 51.76it/s]",
      "\r  9%|▉         | 17/191 [00:00<00:03, 52.75it/s]",
      "\r 12%|█▏        | 23/191 [00:00<00:03, 53.46it/s]",
      "\r 15%|█▌        | 29/191 [00:00<00:03, 53.19it/s]",
      "\r 18%|█▊        | 34/191 [00:00<00:03, 51.83it/s]",
      "\r 21%|██        | 40/191 [00:00<00:02, 51.98it/s]",
      "\r 24%|██▍       | 46/191 [00:00<00:02, 50.74it/s]",
      "\r 27%|██▋       | 52/191 [00:01<00:02, 51.51it/s]",
      "\r 30%|███       | 58/191 [00:01<00:02, 51.81it/s]",
      "\r 34%|███▎      | 64/191 [00:01<00:02, 50.74it/s]",
      "\r 36%|███▌      | 69/191 [00:01<00:02, 46.95it/s]",
      "\r 39%|███▊      | 74/191 [00:01<00:02, 44.57it/s]",
      "\r 41%|████▏     | 79/191 [00:01<00:02, 44.11it/s]",
      "\r 44%|████▍     | 84/191 [00:01<00:02, 44.58it/s]",
      "\r 47%|████▋     | 89/191 [00:01<00:02, 43.08it/s]",
      "\r 50%|████▉     | 95/191 [00:01<00:02, 44.88it/s]",
      "\r 52%|█████▏    | 100/191 [00:02<00:02, 44.80it/s]",
      "\r 55%|█████▍    | 105/191 [00:02<00:01, 46.19it/s]",
      "\r 58%|█████▊    | 111/191 [00:02<00:01, 47.85it/s]",
      "\r 61%|██████    | 116/191 [00:02<00:01, 47.79it/s]",
      "\r 63%|██████▎   | 121/191 [00:02<00:01, 47.24it/s]",
      "\r 66%|██████▌   | 126/191 [00:02<00:01, 47.04it/s]",
      "\r 69%|██████▊   | 131/191 [00:02<00:01, 47.02it/s]",
      "\r 72%|███████▏  | 137/191 [00:02<00:01, 48.69it/s]",
      "\r 74%|███████▍  | 142/191 [00:02<00:01, 48.36it/s]",
      "\r 77%|███████▋  | 147/191 [00:03<00:00, 48.65it/s]",
      "\r 80%|███████▉  | 152/191 [00:03<00:00, 48.96it/s]",
      "\r 82%|████████▏ | 157/191 [00:03<00:00, 49.02it/s]",
      "\r 85%|████████▍ | 162/191 [00:03<00:00, 48.73it/s]",
      "\r 87%|████████▋ | 167/191 [00:03<00:00, 48.74it/s]",
      "\r 91%|█████████ | 173/191 [00:03<00:00, 49.84it/s]",
      "\r 93%|█████████▎| 178/191 [00:03<00:00, 48.88it/s]",
      "\r 96%|█████████▋| 184/191 [00:03<00:00, 49.69it/s]",
      "\r 99%|█████████▉| 190/191 [00:03<00:00, 50.09it/s]",
      "\r100%|██████████| 191/191 [00:03<00:00, 48.62it/s]",
      "\n\r  0%|          | 0/127 [00:00<?, ?it/s]",
      "\r  6%|▌         | 7/127 [00:00<00:01, 63.72it/s]",
      "\r 10%|█         | 13/127 [00:00<00:01, 62.04it/s]",
      "\r 15%|█▍        | 19/127 [00:00<00:01, 60.40it/s]",
      "\r 20%|██        | 26/127 [00:00<00:01, 61.51it/s]",
      "\r 26%|██▌       | 33/127 [00:00<00:01, 62.86it/s]",
      "\r 31%|███▏      | 40/127 [00:00<00:01, 62.76it/s]",
      "\r 36%|███▌      | 46/127 [00:00<00:01, 61.32it/s]",
      "\r 41%|████      | 52/127 [00:00<00:01, 59.66it/s]",
      "\r 46%|████▋     | 59/127 [00:00<00:01, 59.64it/s]",
      "\r 51%|█████     | 65/127 [00:01<00:01, 54.20it/s]",
      "\r 56%|█████▌    | 71/127 [00:01<00:01, 54.59it/s]",
      "\r 61%|██████    | 77/127 [00:01<00:01, 44.11it/s]",
      "\r 65%|██████▌   | 83/127 [00:01<00:00, 47.69it/s]",
      "\r 70%|███████   | 89/127 [00:01<00:00, 50.18it/s]",
      "\r 75%|███████▍  | 95/127 [00:01<00:00, 51.04it/s]",
      "\r 80%|███████▉  | 101/127 [00:01<00:00, 53.33it/s]",
      "\r 85%|████████▌ | 108/127 [00:01<00:00, 56.94it/s]",
      "\r 91%|█████████ | 115/127 [00:02<00:00, 59.03it/s]",
      "\r 96%|█████████▌| 122/127 [00:02<00:00, 60.50it/s]",
      "\r100%|██████████| 127/127 [00:02<00:00, 56.92it/s]",
      "\n"
     ],
     "output_type": "stream"
    }
   ],
   "source": [
    "def create_testing_data():\n",
    "    for category in CATEGORIES:\n",
    "\n",
    "        path = os.path.join(DATADIR_TEST,category)\n",
    "        class_num = CATEGORIES.index(category)\n",
    "\n",
    "        for img in tqdm(os.listdir(path)):\n",
    "            try:\n",
    "                img_array = cv2.imread(os.path.join(path,img) ,cv2.IMREAD_GRAYSCALE)\n",
    "                new_array = cv2.resize(img_array, (IMG_SIZE, IMG_SIZE))\n",
    "                testing_data.append([new_array, class_num])\n",
    "            except Exception as e:\n",
    "                pass\n",
    "\n",
    "create_testing_data()\n"
   ],
   "metadata": {
    "collapsed": false,
    "pycharm": {
     "name": "#%%\n",
     "is_executing": false
    }
   }
  },
  {
   "cell_type": "code",
   "execution_count": 29,
   "outputs": [],
   "source": [
    "import random\n",
    "\n",
    "random.shuffle(training_data)\n",
    "random.shuffle(testing_data)\n"
   ],
   "metadata": {
    "collapsed": false,
    "pycharm": {
     "name": "#%%\n",
     "is_executing": false
    }
   }
  },
  {
   "cell_type": "code",
   "execution_count": 30,
   "outputs": [],
   "source": [
    "X_train = []\n",
    "y_train = []\n",
    "\n",
    "for features,label in training_data:\n",
    "    X_train.append(features)\n",
    "    y_train.append(label)\n",
    "\n",
    "# print(X_train[0].reshape(-1, IMG_SIZE, IMG_SIZE, 1))\n",
    "\n",
    "X_train = np.array(X_train).reshape(-1, IMG_SIZE, IMG_SIZE, 1)\n"
   ],
   "metadata": {
    "collapsed": false,
    "pycharm": {
     "name": "#%%\n",
     "is_executing": false
    }
   }
  },
  {
   "cell_type": "code",
   "execution_count": 31,
   "outputs": [],
   "source": [
    "X_test = []\n",
    "y_test = []\n",
    "\n",
    "for features,label in testing_data:\n",
    "    X_test.append(features)\n",
    "    y_test.append(label)\n",
    "\n",
    "# print(X_test[0].reshape(-1, IMG_SIZE, IMG_SIZE, 1))\n",
    "\n",
    "X_test = np.array(X_test).reshape(-1, IMG_SIZE, IMG_SIZE, 1)\n"
   ],
   "metadata": {
    "collapsed": false,
    "pycharm": {
     "name": "#%%\n",
     "is_executing": false
    }
   }
  },
  {
   "cell_type": "code",
   "execution_count": 32,
   "outputs": [],
   "source": [
    "import pickle\n",
    "\n",
    "pickle_out = open(\"/home/hashan/PycharmProjects/TeaLeafClassifier/dataset/X_Train.pickle\",\"wb\")\n",
    "pickle.dump(X_train, pickle_out)\n",
    "pickle_out.close()\n",
    "\n",
    "pickle_out = open(\"/home/hashan/PycharmProjects/TeaLeafClassifier/dataset/Y_Train.pickle\",\"wb\")\n",
    "pickle.dump(y_train, pickle_out)\n",
    "pickle_out.close()\n",
    "\n",
    "pickle_out = open(\"/home/hashan/PycharmProjects/TeaLeafClassifier/dataset/X_Test.pickle\",\"wb\")\n",
    "pickle.dump(X_test, pickle_out)\n",
    "pickle_out.close()\n",
    "\n",
    "pickle_out = open(\"/home/hashan/PycharmProjects/TeaLeafClassifier/dataset/Y_Test.pickle\",\"wb\")\n",
    "pickle.dump(y_test, pickle_out)\n",
    "pickle_out.close()\n"
   ],
   "metadata": {
    "collapsed": false,
    "pycharm": {
     "name": "#%%\n",
     "is_executing": false
    }
   }
  }
 ],
 "metadata": {
  "language_info": {
   "codemirror_mode": {
    "name": "ipython",
    "version": 2
   },
   "file_extension": ".py",
   "mimetype": "text/x-python",
   "name": "python",
   "nbconvert_exporter": "python",
   "pygments_lexer": "ipython2",
   "version": "2.7.6"
  },
  "kernelspec": {
   "name": "pycharm-eb9a1bd5",
   "language": "python",
   "display_name": "PyCharm (TeaLeafClassifier)"
  },
  "pycharm": {
   "stem_cell": {
    "cell_type": "raw",
    "source": [],
    "metadata": {
     "collapsed": false
    }
   }
  }
 },
 "nbformat": 4,
 "nbformat_minor": 0
}