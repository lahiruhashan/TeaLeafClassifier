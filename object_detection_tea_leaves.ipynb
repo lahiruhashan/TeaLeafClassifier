{
 "cells": [
  {
   "cell_type": "code",
   "execution_count": 0,
   "metadata": {
    "id": "VgZRMse1W4t-",
    "colab_type": "code",
    "outputId": "209e6d30-6129-413f-b53b-019005bda087",
    "colab": {
     "base_uri": "https://localhost:8080/",
     "height": 54.0
    }
   },
   "outputs": [
    {
     "name": "stdout",
     "output_type": "stream",
     "text": [
      "Drive already mounted at /content/drive; to attempt to forcibly remount, call drive.mount(\"/content/drive\", force_remount=True).\n"
     ]
    }
   ],
   "source": [
    "from google.colab import drive\n",
    "drive.mount('/content/drive')"
   ]
  },
  {
   "cell_type": "code",
   "execution_count": 0,
   "metadata": {
    "id": "CIrxvewUnECh",
    "colab_type": "code",
    "colab": {}
   },
   "outputs": [],
   "source": [
    "import os\n",
    "import sys\n",
    "import tensorflow as tf"
   ]
  },
  {
   "cell_type": "code",
   "execution_count": 0,
   "metadata": {
    "id": "sTzaJgh6XT0I",
    "colab_type": "code",
    "outputId": "d974ee7a-b46a-4941-a70f-8fa5c1157ee9",
    "colab": {
     "base_uri": "https://localhost:8080/",
     "height": 34.0
    }
   },
   "outputs": [
    {
     "name": "stdout",
     "output_type": "stream",
     "text": [
      "/content/drive/My Drive/Colab Notebooks/tea-leaves-object-detection-model/models/research/object_detection\n"
     ]
    }
   ],
   "source": [
    "%cd /content/drive/My Drive/Colab Notebooks/tea-leaves-object-detection-model/models/research/object_detection"
   ]
  },
  {
   "cell_type": "code",
   "execution_count": 0,
   "metadata": {
    "id": "KO1xXJ-oXiDn",
    "colab_type": "code",
    "outputId": "53cea662-a060-4a41-e1e3-ae85007133b1",
    "colab": {
     "base_uri": "https://localhost:8080/",
     "height": 54.0
    }
   },
   "outputs": [
    {
     "data": {
      "text/plain": [
       "'/content/drive/My Drive/Colab Notebooks/tea-leaves-object-detection-model/models/research/object_detection'"
      ]
     },
     "execution_count": 6,
     "metadata": {
      "tags": []
     },
     "output_type": "execute_result"
    }
   ],
   "source": [
    "%pwd"
   ]
  },
  {
   "cell_type": "code",
   "execution_count": 0,
   "metadata": {
    "id": "MHqn0B5AXjrm",
    "colab_type": "code",
    "outputId": "95bc9924-25fa-4218-9a72-f6bc8d869f05",
    "colab": {
     "base_uri": "https://localhost:8080/",
     "height": 52.0
    }
   },
   "outputs": [
    {
     "name": "stdout",
     "output_type": "stream",
     "text": [
      "/content/drive/My Drive/Colab Notebooks/tea-leaves-object-detection-model/models/research\n",
      "/content/drive/My Drive/Colab Notebooks/tea-leaves-object-detection-model/models\n"
     ]
    }
   ],
   "source": [
    "%cd ..\n",
    "%cd .."
   ]
  },
  {
   "cell_type": "code",
   "execution_count": 0,
   "metadata": {
    "id": "T5TsG2L5XsgQ",
    "colab_type": "code",
    "outputId": "de1145ce-b2d5-4483-b8ed-1cb24b8df65f",
    "colab": {
     "base_uri": "https://localhost:8080/",
     "height": 34.0
    }
   },
   "outputs": [
    {
     "data": {
      "text/plain": [
       "'/content/drive/My Drive/Colab Notebooks/tea-leaves-object-detection-model/models'"
      ]
     },
     "execution_count": 8,
     "metadata": {
      "tags": []
     },
     "output_type": "execute_result"
    }
   ],
   "source": [
    "%pwd"
   ]
  },
  {
   "cell_type": "code",
   "execution_count": 0,
   "metadata": {
    "id": "8u8B9VNcZyyI",
    "colab_type": "code",
    "colab": {}
   },
   "outputs": [],
   "source": [
    "# !apt-get install -y -qq protobuf-compiler python-pil python-lxml"
   ]
  },
  {
   "cell_type": "code",
   "execution_count": 0,
   "metadata": {
    "id": "qUl9las8ORSc",
    "colab_type": "code",
    "outputId": "12be04f6-8107-420a-e2b2-c00e5426c8d0",
    "colab": {
     "base_uri": "https://localhost:8080/",
     "height": 34.0
    }
   },
   "outputs": [
    {
     "name": "stdout",
     "output_type": "stream",
     "text": [
      "/content/drive/My Drive/Colab Notebooks/tea-leaves-object-detection-model/models/research\n"
     ]
    }
   ],
   "source": [
    "%cd research"
   ]
  },
  {
   "cell_type": "code",
   "execution_count": 0,
   "metadata": {
    "id": "898vDptJO_CC",
    "colab_type": "code",
    "colab": {}
   },
   "outputs": [],
   "source": [
    "!protoc object_detection/protos/*.proto --python_out=."
   ]
  },
  {
   "cell_type": "code",
   "execution_count": 0,
   "metadata": {
    "id": "pv336R3lbTBP",
    "colab_type": "code",
    "outputId": "739f82e2-3a93-48f0-a68f-d0c9d58f0305",
    "colab": {
     "base_uri": "https://localhost:8080/",
     "height": 69.0
    }
   },
   "outputs": [
    {
     "name": "stdout",
     "output_type": "stream",
     "text": [
      "/root\n",
      "/content\n",
      "/content/drive/My Drive/Colab Notebooks/tea-leaves-object-detection-model\n"
     ]
    }
   ],
   "source": [
    "%cd ~\n",
    "%cd /content\n",
    "%cd drive/My Drive/Colab Notebooks/tea-leaves-object-detection-model"
   ]
  },
  {
   "cell_type": "code",
   "execution_count": 0,
   "metadata": {
    "id": "vWXYViDPbje1",
    "colab_type": "code",
    "colab": {}
   },
   "outputs": [],
   "source": [
    "# !protoc object_detection/protos/*.proto --python_out=."
   ]
  },
  {
   "cell_type": "code",
   "execution_count": 0,
   "metadata": {
    "id": "caCWGtyvb0wf",
    "colab_type": "code",
    "outputId": "4e9643f7-1a1f-43c7-9579-dfecf745756c",
    "colab": {
     "base_uri": "https://localhost:8080/",
     "height": 923.0
    }
   },
   "outputs": [
    {
     "name": "stdout",
     "output_type": "stream",
     "text": [
      "WARNING: Logging before flag parsing goes to stderr.\n",
      "W0808 04:34:47.572247 139981650384768 lazy_loader.py:50] \n",
      "The TensorFlow contrib module will not be included in TensorFlow 2.0.\n",
      "For more information, please see:\n",
      "  * https://github.com/tensorflow/community/blob/master/rfcs/20180907-contrib-sunset.md\n",
      "  * https://github.com/tensorflow/addons\n",
      "  * https://github.com/tensorflow/io (for I/O related ops)\n",
      "If you depend on functionality not listed there, please file an issue.\n",
      "\n",
      "W0808 04:35:03.593805 139981650384768 deprecation_wrapper.py:119] From /content/drive/My Drive/Colab Notebooks/tea-leaves-object-detection-model/models/research/slim/nets/inception_resnet_v2.py:373: The name tf.GraphKeys is deprecated. Please use tf.compat.v1.GraphKeys instead.\n",
      "\n",
      "W0808 04:35:13.012387 139981650384768 deprecation_wrapper.py:119] From /content/drive/My Drive/Colab Notebooks/tea-leaves-object-detection-model/models/research/slim/nets/mobilenet/mobilenet.py:397: The name tf.nn.avg_pool is deprecated. Please use tf.nn.avg_pool2d instead.\n",
      "\n",
      "Running tests under Python 3.6.8: /usr/bin/python3\n",
      "[ RUN      ] ModelBuilderTest.test_create_faster_rcnn_model_from_config_with_example_miner\n",
      "[       OK ] ModelBuilderTest.test_create_faster_rcnn_model_from_config_with_example_miner\n",
      "[ RUN      ] ModelBuilderTest.test_create_faster_rcnn_models_from_config_faster_rcnn_with_matmul\n",
      "[       OK ] ModelBuilderTest.test_create_faster_rcnn_models_from_config_faster_rcnn_with_matmul\n",
      "[ RUN      ] ModelBuilderTest.test_create_faster_rcnn_models_from_config_faster_rcnn_without_matmul\n",
      "[       OK ] ModelBuilderTest.test_create_faster_rcnn_models_from_config_faster_rcnn_without_matmul\n",
      "[ RUN      ] ModelBuilderTest.test_create_faster_rcnn_models_from_config_mask_rcnn_with_matmul\n",
      "[       OK ] ModelBuilderTest.test_create_faster_rcnn_models_from_config_mask_rcnn_with_matmul\n",
      "[ RUN      ] ModelBuilderTest.test_create_faster_rcnn_models_from_config_mask_rcnn_without_matmul\n",
      "[       OK ] ModelBuilderTest.test_create_faster_rcnn_models_from_config_mask_rcnn_without_matmul\n",
      "[ RUN      ] ModelBuilderTest.test_create_rfcn_model_from_config\n",
      "[       OK ] ModelBuilderTest.test_create_rfcn_model_from_config\n",
      "[ RUN      ] ModelBuilderTest.test_create_ssd_fpn_model_from_config\n",
      "[       OK ] ModelBuilderTest.test_create_ssd_fpn_model_from_config\n",
      "[ RUN      ] ModelBuilderTest.test_create_ssd_models_from_config\n",
      "[       OK ] ModelBuilderTest.test_create_ssd_models_from_config\n",
      "[ RUN      ] ModelBuilderTest.test_invalid_faster_rcnn_batchnorm_update\n",
      "[       OK ] ModelBuilderTest.test_invalid_faster_rcnn_batchnorm_update\n",
      "[ RUN      ] ModelBuilderTest.test_invalid_first_stage_nms_iou_threshold\n",
      "[       OK ] ModelBuilderTest.test_invalid_first_stage_nms_iou_threshold\n",
      "[ RUN      ] ModelBuilderTest.test_invalid_model_config_proto\n",
      "[       OK ] ModelBuilderTest.test_invalid_model_config_proto\n",
      "[ RUN      ] ModelBuilderTest.test_invalid_second_stage_batch_size\n",
      "[       OK ] ModelBuilderTest.test_invalid_second_stage_batch_size\n",
      "[ RUN      ] ModelBuilderTest.test_session\n",
      "[  SKIPPED ] ModelBuilderTest.test_session\n",
      "[ RUN      ] ModelBuilderTest.test_unknown_faster_rcnn_feature_extractor\n",
      "[       OK ] ModelBuilderTest.test_unknown_faster_rcnn_feature_extractor\n",
      "[ RUN      ] ModelBuilderTest.test_unknown_meta_architecture\n",
      "[       OK ] ModelBuilderTest.test_unknown_meta_architecture\n",
      "[ RUN      ] ModelBuilderTest.test_unknown_ssd_feature_extractor\n",
      "[       OK ] ModelBuilderTest.test_unknown_ssd_feature_extractor\n",
      "----------------------------------------------------------------------\n",
      "Ran 16 tests in 0.184s\n",
      "\n",
      "OK (skipped=1)\n",
      "/content/drive/My Drive/Colab Notebooks/tea-leaves-object-detection-model/models/research/object_detection\n"
     ]
    }
   ],
   "source": [
    "import os\n",
    "os.environ['PYTHONPATH'] += ':/content/drive/My Drive/Colab Notebooks/tea-leaves-object-detection-model/models/research/:/content/drive/My Drive/Colab Notebooks/tea-leaves-object-detection-model/models/research/slim/'\n",
    "os.environ['PYTHONPATH'] += ':/content/drive/My Drive/Colab Notebooks/tea-leaves-object-detection-model/models/research/:/content/drive/My Drive/Colab Notebooks/tea-leaves-object-detection-model/models/research/object_detection/'\n",
    "!python models/research/object_detection/builders/model_builder_test.py\n",
    " \n",
    "# Change the directory path\n",
    " \n",
    "%cd models/research/object_detection"
   ]
  },
  {
   "cell_type": "code",
   "execution_count": 0,
   "metadata": {
    "id": "gDLrb-lTwXNm",
    "colab_type": "code",
    "colab": {}
   },
   "outputs": [],
   "source": [
    "# os.chdir('object_detection')"
   ]
  },
  {
   "cell_type": "code",
   "execution_count": 0,
   "metadata": {
    "id": "R2ShwnWAwajG",
    "colab_type": "code",
    "colab": {}
   },
   "outputs": [],
   "source": [
    "# !cd .. && pwd && export PYTHONPATH=$PYTHONPATH:`pwd`:`pwd`/slim/"
   ]
  },
  {
   "cell_type": "code",
   "execution_count": 0,
   "metadata": {
    "id": "nMcIF6da19GX",
    "colab_type": "code",
    "colab": {}
   },
   "outputs": [],
   "source": [
    "# %cd .."
   ]
  },
  {
   "cell_type": "code",
   "execution_count": 0,
   "metadata": {
    "id": "41zc7qqTwj34",
    "colab_type": "code",
    "colab": {}
   },
   "outputs": [],
   "source": [
    "# !export PYTHONPATH=$PYTHONPATH:`pwd`:`pwd`/slim"
   ]
  },
  {
   "cell_type": "code",
   "execution_count": 0,
   "metadata": {
    "id": "TxxwuaZSwsG2",
    "colab_type": "code",
    "colab": {}
   },
   "outputs": [],
   "source": [
    "# %pwd"
   ]
  },
  {
   "cell_type": "code",
   "execution_count": 0,
   "metadata": {
    "id": "U8cKmocfx_6I",
    "colab_type": "code",
    "colab": {}
   },
   "outputs": [],
   "source": [
    "# def del_all_flags(FLAGS):\n",
    "#     flags_dict = FLAGS._flags()    \n",
    "#     keys_list = [keys for keys in flags_dict]    \n",
    "#     for keys in keys_list:\n",
    "#         FLAGS.__delattr__(keys)\n",
    "\n",
    "# del_all_flags(tf.flags.FLAGS)"
   ]
  },
  {
   "cell_type": "code",
   "execution_count": 0,
   "metadata": {
    "id": "N4_vLmOOwoKb",
    "colab_type": "code",
    "outputId": "9a1a8376-25b6-4159-e41d-29b659506e49",
    "colab": {
     "base_uri": "https://localhost:8080/",
     "height": 1000.0
    }
   },
   "outputs": [
    {
     "name": "stdout",
     "output_type": "stream",
     "text": [
      "WARNING: Logging before flag parsing goes to stderr.\n",
      "W0808 04:46:55.036979 140380300470144 lazy_loader.py:50] \n",
      "The TensorFlow contrib module will not be included in TensorFlow 2.0.\n",
      "For more information, please see:\n",
      "  * https://github.com/tensorflow/community/blob/master/rfcs/20180907-contrib-sunset.md\n",
      "  * https://github.com/tensorflow/addons\n",
      "  * https://github.com/tensorflow/io (for I/O related ops)\n",
      "If you depend on functionality not listed there, please file an issue.\n",
      "\n",
      "W0808 04:46:56.005927 140380300470144 deprecation_wrapper.py:119] From /content/drive/My Drive/Colab Notebooks/tea-leaves-object-detection-model/models/research/slim/nets/inception_resnet_v2.py:373: The name tf.GraphKeys is deprecated. Please use tf.compat.v1.GraphKeys instead.\n",
      "\n",
      "W0808 04:46:56.125340 140380300470144 deprecation_wrapper.py:119] From /content/drive/My Drive/Colab Notebooks/tea-leaves-object-detection-model/models/research/slim/nets/mobilenet/mobilenet.py:397: The name tf.nn.avg_pool is deprecated. Please use tf.nn.avg_pool2d instead.\n",
      "\n",
      "W0808 04:46:56.244040 140380300470144 deprecation_wrapper.py:119] From legacy/train.py:55: The name tf.logging.set_verbosity is deprecated. Please use tf.compat.v1.logging.set_verbosity instead.\n",
      "\n",
      "W0808 04:46:56.244427 140380300470144 deprecation_wrapper.py:119] From legacy/train.py:55: The name tf.logging.INFO is deprecated. Please use tf.compat.v1.logging.INFO instead.\n",
      "\n",
      "W0808 04:46:56.245097 140380300470144 deprecation_wrapper.py:119] From legacy/train.py:184: The name tf.app.run is deprecated. Please use tf.compat.v1.app.run instead.\n",
      "\n",
      "W0808 04:46:56.245774 140380300470144 deprecation.py:323] From /usr/local/lib/python3.6/dist-packages/absl/app.py:251: main (from __main__) is deprecated and will be removed in a future version.\n",
      "Instructions for updating:\n",
      "Use object_detection/model_main.py.\n",
      "W0808 04:46:56.245954 140380300470144 deprecation_wrapper.py:119] From legacy/train.py:90: The name tf.gfile.MakeDirs is deprecated. Please use tf.io.gfile.makedirs instead.\n",
      "\n",
      "W0808 04:46:56.246998 140380300470144 deprecation_wrapper.py:119] From /content/drive/My Drive/Colab Notebooks/tea-leaves-object-detection-model/models/research/object_detection/utils/config_util.py:102: The name tf.gfile.GFile is deprecated. Please use tf.io.gfile.GFile instead.\n",
      "\n",
      "W0808 04:46:56.262025 140380300470144 deprecation_wrapper.py:119] From legacy/train.py:95: The name tf.gfile.Copy is deprecated. Please use tf.io.gfile.copy instead.\n",
      "\n",
      "W0808 04:46:56.289809 140380300470144 deprecation.py:323] From /content/drive/My Drive/Colab Notebooks/tea-leaves-object-detection-model/models/research/object_detection/legacy/trainer.py:266: create_global_step (from tensorflow.contrib.framework.python.ops.variables) is deprecated and will be removed in a future version.\n",
      "Instructions for updating:\n",
      "Please switch to tf.train.create_global_step\n",
      "W0808 04:46:56.296476 140380300470144 deprecation_wrapper.py:119] From /content/drive/My Drive/Colab Notebooks/tea-leaves-object-detection-model/models/research/object_detection/data_decoders/tf_example_decoder.py:182: The name tf.FixedLenFeature is deprecated. Please use tf.io.FixedLenFeature instead.\n",
      "\n",
      "W0808 04:46:56.296820 140380300470144 deprecation_wrapper.py:119] From /content/drive/My Drive/Colab Notebooks/tea-leaves-object-detection-model/models/research/object_detection/data_decoders/tf_example_decoder.py:197: The name tf.VarLenFeature is deprecated. Please use tf.io.VarLenFeature instead.\n",
      "\n",
      "W0808 04:46:56.327253 140380300470144 deprecation_wrapper.py:119] From /content/drive/My Drive/Colab Notebooks/tea-leaves-object-detection-model/models/research/object_detection/builders/dataset_builder.py:64: The name tf.gfile.Glob is deprecated. Please use tf.io.gfile.glob instead.\n",
      "\n",
      "W0808 04:46:56.335789 140380300470144 deprecation_wrapper.py:119] From /content/drive/My Drive/Colab Notebooks/tea-leaves-object-detection-model/models/research/object_detection/builders/dataset_builder.py:71: The name tf.logging.warning is deprecated. Please use tf.compat.v1.logging.warning instead.\n",
      "\n",
      "W0808 04:46:56.336137 140380300470144 dataset_builder.py:72] num_readers has been reduced to 1 to match input file shards.\n",
      "W0808 04:46:56.346733 140380300470144 deprecation.py:323] From /content/drive/My Drive/Colab Notebooks/tea-leaves-object-detection-model/models/research/object_detection/builders/dataset_builder.py:86: parallel_interleave (from tensorflow.contrib.data.python.ops.interleave_ops) is deprecated and will be removed in a future version.\n",
      "Instructions for updating:\n",
      "Use `tf.data.experimental.parallel_interleave(...)`.\n",
      "W0808 04:46:56.347057 140380300470144 deprecation.py:323] From /usr/local/lib/python3.6/dist-packages/tensorflow/contrib/data/python/ops/interleave_ops.py:77: parallel_interleave (from tensorflow.python.data.experimental.ops.interleave_ops) is deprecated and will be removed in a future version.\n",
      "Instructions for updating:\n",
      "Use `tf.data.Dataset.interleave(map_func, cycle_length, block_length, num_parallel_calls=tf.data.experimental.AUTOTUNE)` instead. If sloppy execution is desired, use `tf.data.Options.experimental_determinstic`.\n",
      "W0808 04:46:56.392892 140380300470144 deprecation.py:323] From /content/drive/My Drive/Colab Notebooks/tea-leaves-object-detection-model/models/research/object_detection/builders/dataset_builder.py:155: DatasetV1.map_with_legacy_function (from tensorflow.python.data.ops.dataset_ops) is deprecated and will be removed in a future version.\n",
      "Instructions for updating:\n",
      "Use `tf.data.Dataset.map()\n",
      "W0808 04:46:56.639523 140380300470144 deprecation.py:323] From /content/drive/My Drive/Colab Notebooks/tea-leaves-object-detection-model/models/research/object_detection/builders/dataset_builder.py:43: DatasetV1.make_initializable_iterator (from tensorflow.python.data.ops.dataset_ops) is deprecated and will be removed in a future version.\n",
      "Instructions for updating:\n",
      "Use `for ... in dataset:` to iterate over a dataset. If using `tf.estimator`, return the `Dataset` object directly from your input function. As a last resort, you can use `tf.compat.v1.data.make_initializable_iterator(dataset)`.\n",
      "W0808 04:46:56.649191 140380300470144 deprecation_wrapper.py:119] From /content/drive/My Drive/Colab Notebooks/tea-leaves-object-detection-model/models/research/object_detection/builders/dataset_builder.py:44: The name tf.add_to_collection is deprecated. Please use tf.compat.v1.add_to_collection instead.\n",
      "\n",
      "W0808 04:46:56.655660 140380300470144 deprecation_wrapper.py:119] From /content/drive/My Drive/Colab Notebooks/tea-leaves-object-detection-model/models/research/object_detection/core/preprocessor.py:626: The name tf.random_uniform is deprecated. Please use tf.random.uniform instead.\n",
      "\n",
      "W0808 04:46:56.725897 140380300470144 deprecation.py:323] From /content/drive/My Drive/Colab Notebooks/tea-leaves-object-detection-model/models/research/object_detection/core/preprocessor.py:196: sample_distorted_bounding_box (from tensorflow.python.ops.image_ops_impl) is deprecated and will be removed in a future version.\n",
      "Instructions for updating:\n",
      "`seed2` arg is deprecated.Use sample_distorted_bounding_box_v2 instead.\n",
      "W0808 04:46:56.740340 140380300470144 deprecation.py:323] From /content/drive/My Drive/Colab Notebooks/tea-leaves-object-detection-model/models/research/object_detection/core/box_list_ops.py:206: add_dispatch_support.<locals>.wrapper (from tensorflow.python.ops.array_ops) is deprecated and will be removed in a future version.\n",
      "Instructions for updating:\n",
      "Use tf.where in 2.0, which has the same broadcast rule as np.where\n",
      "W0808 04:46:57.845557 140380300470144 deprecation.py:323] From /content/drive/My Drive/Colab Notebooks/tea-leaves-object-detection-model/models/research/object_detection/core/batcher.py:101: batch (from tensorflow.python.training.input) is deprecated and will be removed in a future version.\n",
      "Instructions for updating:\n",
      "Queue-based input pipelines have been replaced by `tf.data`. Use `tf.data.Dataset.batch(batch_size)` (or `padded_batch(...)` if `dynamic_pad=True`).\n",
      "W0808 04:46:57.851924 140380300470144 deprecation.py:323] From /usr/local/lib/python3.6/dist-packages/tensorflow/python/training/input.py:753: QueueRunner.__init__ (from tensorflow.python.training.queue_runner_impl) is deprecated and will be removed in a future version.\n",
      "Instructions for updating:\n",
      "To construct input pipelines, use the `tf.data` module.\n",
      "W0808 04:46:57.853563 140380300470144 deprecation.py:323] From /usr/local/lib/python3.6/dist-packages/tensorflow/python/training/input.py:753: add_queue_runner (from tensorflow.python.training.queue_runner_impl) is deprecated and will be removed in a future version.\n",
      "Instructions for updating:\n",
      "To construct input pipelines, use the `tf.data` module.\n",
      "W0808 04:46:57.866063 140380300470144 deprecation_wrapper.py:119] From /content/drive/My Drive/Colab Notebooks/tea-leaves-object-detection-model/models/research/object_detection/core/prefetcher.py:58: The name tf.summary.scalar is deprecated. Please use tf.compat.v1.summary.scalar instead.\n",
      "\n",
      "W0808 04:46:58.096856 140380300470144 deprecation_wrapper.py:119] From /content/drive/My Drive/Colab Notebooks/tea-leaves-object-detection-model/models/research/object_detection/core/preprocessor.py:2660: The name tf.image.resize_images is deprecated. Please use tf.image.resize instead.\n",
      "\n",
      "W0808 04:47:01.457767 140380300470144 deprecation_wrapper.py:119] From /content/drive/My Drive/Colab Notebooks/tea-leaves-object-detection-model/models/research/object_detection/predictors/convolutional_box_predictor.py:150: The name tf.logging.info is deprecated. Please use tf.compat.v1.logging.info instead.\n",
      "\n",
      "I0808 04:47:01.458078 140380300470144 convolutional_box_predictor.py:151] depth of additional conv before box predictor: 0\n",
      "I0808 04:47:01.510808 140380300470144 convolutional_box_predictor.py:151] depth of additional conv before box predictor: 0\n",
      "I0808 04:47:01.564525 140380300470144 convolutional_box_predictor.py:151] depth of additional conv before box predictor: 0\n",
      "I0808 04:47:01.616436 140380300470144 convolutional_box_predictor.py:151] depth of additional conv before box predictor: 0\n",
      "I0808 04:47:01.668996 140380300470144 convolutional_box_predictor.py:151] depth of additional conv before box predictor: 0\n",
      "I0808 04:47:01.723181 140380300470144 convolutional_box_predictor.py:151] depth of additional conv before box predictor: 0\n",
      "W0808 04:47:03.196246 140380300470144 deprecation_wrapper.py:119] From /content/drive/My Drive/Colab Notebooks/tea-leaves-object-detection-model/models/research/object_detection/core/losses.py:177: The name tf.losses.huber_loss is deprecated. Please use tf.compat.v1.losses.huber_loss instead.\n",
      "\n",
      "W0808 04:47:03.198029 140380300470144 deprecation_wrapper.py:119] From /content/drive/My Drive/Colab Notebooks/tea-leaves-object-detection-model/models/research/object_detection/core/losses.py:183: The name tf.losses.Reduction is deprecated. Please use tf.compat.v1.losses.Reduction instead.\n",
      "\n",
      "W0808 04:47:03.434683 140380300470144 deprecation_wrapper.py:119] From /content/drive/My Drive/Colab Notebooks/tea-leaves-object-detection-model/models/research/object_detection/legacy/trainer.py:208: The name tf.losses.add_loss is deprecated. Please use tf.compat.v1.losses.add_loss instead.\n",
      "\n",
      "W0808 04:47:03.435654 140380300470144 deprecation_wrapper.py:119] From /content/drive/My Drive/Colab Notebooks/tea-leaves-object-detection-model/models/research/object_detection/builders/optimizer_builder.py:95: The name tf.train.get_or_create_global_step is deprecated. Please use tf.compat.v1.train.get_or_create_global_step instead.\n",
      "\n",
      "W0808 04:47:03.435995 140380300470144 deprecation_wrapper.py:119] From /content/drive/My Drive/Colab Notebooks/tea-leaves-object-detection-model/models/research/object_detection/utils/learning_schedules.py:66: The name tf.train.exponential_decay is deprecated. Please use tf.compat.v1.train.exponential_decay instead.\n",
      "\n",
      "W0808 04:47:03.448139 140380300470144 deprecation_wrapper.py:119] From /content/drive/My Drive/Colab Notebooks/tea-leaves-object-detection-model/models/research/object_detection/builders/optimizer_builder.py:47: The name tf.train.RMSPropOptimizer is deprecated. Please use tf.compat.v1.train.RMSPropOptimizer instead.\n",
      "\n",
      "W0808 04:47:05.240896 140380300470144 deprecation.py:506] From /usr/local/lib/python3.6/dist-packages/tensorflow/python/training/rmsprop.py:119: calling Ones.__init__ (from tensorflow.python.ops.init_ops) with dtype is deprecated and will be removed in a future version.\n",
      "Instructions for updating:\n",
      "Call initializer instance with the dtype argument instead of passing it to the constructor\n",
      "W0808 04:47:06.967388 140380300470144 deprecation.py:323] From /usr/local/lib/python3.6/dist-packages/tensorflow/python/training/moving_averages.py:433: Variable.initialized_value (from tensorflow.python.ops.variables) is deprecated and will be removed in a future version.\n",
      "Instructions for updating:\n",
      "Use Variable.read_value. Variables in 2.X are initialized automatically both in eager and graph (inside tf.defun) contexts.\n",
      "W0808 04:47:10.908781 140380300470144 deprecation_wrapper.py:119] From /content/drive/My Drive/Colab Notebooks/tea-leaves-object-detection-model/models/research/object_detection/legacy/trainer.py:353: The name tf.summary.histogram is deprecated. Please use tf.compat.v1.summary.histogram instead.\n",
      "\n",
      "W0808 04:47:11.168843 140380300470144 deprecation_wrapper.py:119] From /content/drive/My Drive/Colab Notebooks/tea-leaves-object-detection-model/models/research/object_detection/legacy/trainer.py:355: The name tf.losses.get_losses is deprecated. Please use tf.compat.v1.losses.get_losses instead.\n",
      "\n",
      "W0808 04:47:11.172000 140380300470144 deprecation_wrapper.py:119] From /content/drive/My Drive/Colab Notebooks/tea-leaves-object-detection-model/models/research/object_detection/legacy/trainer.py:359: The name tf.losses.get_total_loss is deprecated. Please use tf.compat.v1.losses.get_total_loss instead.\n",
      "\n",
      "W0808 04:47:11.176979 140380300470144 deprecation_wrapper.py:119] From /content/drive/My Drive/Colab Notebooks/tea-leaves-object-detection-model/models/research/object_detection/legacy/trainer.py:368: The name tf.summary.merge is deprecated. Please use tf.compat.v1.summary.merge instead.\n",
      "\n",
      "W0808 04:47:11.187392 140380300470144 deprecation_wrapper.py:119] From /content/drive/My Drive/Colab Notebooks/tea-leaves-object-detection-model/models/research/object_detection/legacy/trainer.py:376: The name tf.train.Saver is deprecated. Please use tf.compat.v1.train.Saver instead.\n",
      "\n",
      "W0808 04:47:11.800410 140380300470144 deprecation_wrapper.py:119] From /content/drive/My Drive/Colab Notebooks/tea-leaves-object-detection-model/models/research/object_detection/utils/variables_helper.py:139: The name tf.train.NewCheckpointReader is deprecated. Please use tf.compat.v1.train.NewCheckpointReader instead.\n",
      "\n",
      "W0808 04:47:11.806488 140380300470144 variables_helper.py:154] Variable [BoxPredictor_0/ClassPredictor/biases] is available in checkpoint, but has an incompatible shape with model variable. Checkpoint shape: [[273]], model variable shape: [[6]]. This variable will not be initialized from the checkpoint.\n",
      "W0808 04:47:11.806881 140380300470144 variables_helper.py:154] Variable [BoxPredictor_0/ClassPredictor/biases/ExponentialMovingAverage] is available in checkpoint, but has an incompatible shape with model variable. Checkpoint shape: [[273]], model variable shape: [[6]]. This variable will not be initialized from the checkpoint.\n",
      "W0808 04:47:11.807005 140380300470144 variables_helper.py:154] Variable [BoxPredictor_0/ClassPredictor/biases/RMSProp] is available in checkpoint, but has an incompatible shape with model variable. Checkpoint shape: [[273]], model variable shape: [[6]]. This variable will not be initialized from the checkpoint.\n",
      "W0808 04:47:11.807099 140380300470144 variables_helper.py:154] Variable [BoxPredictor_0/ClassPredictor/biases/RMSProp_1] is available in checkpoint, but has an incompatible shape with model variable. Checkpoint shape: [[273]], model variable shape: [[6]]. This variable will not be initialized from the checkpoint.\n",
      "W0808 04:47:11.807194 140380300470144 variables_helper.py:154] Variable [BoxPredictor_0/ClassPredictor/weights] is available in checkpoint, but has an incompatible shape with model variable. Checkpoint shape: [[1, 1, 512, 273]], model variable shape: [[1, 1, 512, 6]]. This variable will not be initialized from the checkpoint.\n",
      "W0808 04:47:11.807334 140380300470144 variables_helper.py:154] Variable [BoxPredictor_0/ClassPredictor/weights/ExponentialMovingAverage] is available in checkpoint, but has an incompatible shape with model variable. Checkpoint shape: [[1, 1, 512, 273]], model variable shape: [[1, 1, 512, 6]]. This variable will not be initialized from the checkpoint.\n",
      "W0808 04:47:11.807422 140380300470144 variables_helper.py:154] Variable [BoxPredictor_0/ClassPredictor/weights/RMSProp] is available in checkpoint, but has an incompatible shape with model variable. Checkpoint shape: [[1, 1, 512, 273]], model variable shape: [[1, 1, 512, 6]]. This variable will not be initialized from the checkpoint.\n",
      "W0808 04:47:11.807497 140380300470144 variables_helper.py:154] Variable [BoxPredictor_0/ClassPredictor/weights/RMSProp_1] is available in checkpoint, but has an incompatible shape with model variable. Checkpoint shape: [[1, 1, 512, 273]], model variable shape: [[1, 1, 512, 6]]. This variable will not be initialized from the checkpoint.\n",
      "W0808 04:47:11.807631 140380300470144 variables_helper.py:154] Variable [BoxPredictor_1/ClassPredictor/biases] is available in checkpoint, but has an incompatible shape with model variable. Checkpoint shape: [[546]], model variable shape: [[12]]. This variable will not be initialized from the checkpoint.\n",
      "W0808 04:47:11.807719 140380300470144 variables_helper.py:154] Variable [BoxPredictor_1/ClassPredictor/biases/ExponentialMovingAverage] is available in checkpoint, but has an incompatible shape with model variable. Checkpoint shape: [[546]], model variable shape: [[12]]. This variable will not be initialized from the checkpoint.\n",
      "W0808 04:47:11.807801 140380300470144 variables_helper.py:154] Variable [BoxPredictor_1/ClassPredictor/biases/RMSProp] is available in checkpoint, but has an incompatible shape with model variable. Checkpoint shape: [[546]], model variable shape: [[12]]. This variable will not be initialized from the checkpoint.\n",
      "W0808 04:47:11.807869 140380300470144 variables_helper.py:154] Variable [BoxPredictor_1/ClassPredictor/biases/RMSProp_1] is available in checkpoint, but has an incompatible shape with model variable. Checkpoint shape: [[546]], model variable shape: [[12]]. This variable will not be initialized from the checkpoint.\n",
      "W0808 04:47:11.807941 140380300470144 variables_helper.py:154] Variable [BoxPredictor_1/ClassPredictor/weights] is available in checkpoint, but has an incompatible shape with model variable. Checkpoint shape: [[1, 1, 1024, 546]], model variable shape: [[1, 1, 1024, 12]]. This variable will not be initialized from the checkpoint.\n",
      "W0808 04:47:11.808011 140380300470144 variables_helper.py:154] Variable [BoxPredictor_1/ClassPredictor/weights/ExponentialMovingAverage] is available in checkpoint, but has an incompatible shape with model variable. Checkpoint shape: [[1, 1, 1024, 546]], model variable shape: [[1, 1, 1024, 12]]. This variable will not be initialized from the checkpoint.\n",
      "W0808 04:47:11.808081 140380300470144 variables_helper.py:154] Variable [BoxPredictor_1/ClassPredictor/weights/RMSProp] is available in checkpoint, but has an incompatible shape with model variable. Checkpoint shape: [[1, 1, 1024, 546]], model variable shape: [[1, 1, 1024, 12]]. This variable will not be initialized from the checkpoint.\n",
      "W0808 04:47:11.808150 140380300470144 variables_helper.py:154] Variable [BoxPredictor_1/ClassPredictor/weights/RMSProp_1] is available in checkpoint, but has an incompatible shape with model variable. Checkpoint shape: [[1, 1, 1024, 546]], model variable shape: [[1, 1, 1024, 12]]. This variable will not be initialized from the checkpoint.\n",
      "W0808 04:47:11.808296 140380300470144 variables_helper.py:154] Variable [BoxPredictor_2/ClassPredictor/biases] is available in checkpoint, but has an incompatible shape with model variable. Checkpoint shape: [[546]], model variable shape: [[12]]. This variable will not be initialized from the checkpoint.\n",
      "W0808 04:47:11.808370 140380300470144 variables_helper.py:154] Variable [BoxPredictor_2/ClassPredictor/biases/ExponentialMovingAverage] is available in checkpoint, but has an incompatible shape with model variable. Checkpoint shape: [[546]], model variable shape: [[12]]. This variable will not be initialized from the checkpoint.\n",
      "W0808 04:47:11.808436 140380300470144 variables_helper.py:154] Variable [BoxPredictor_2/ClassPredictor/biases/RMSProp] is available in checkpoint, but has an incompatible shape with model variable. Checkpoint shape: [[546]], model variable shape: [[12]]. This variable will not be initialized from the checkpoint.\n",
      "W0808 04:47:11.808502 140380300470144 variables_helper.py:154] Variable [BoxPredictor_2/ClassPredictor/biases/RMSProp_1] is available in checkpoint, but has an incompatible shape with model variable. Checkpoint shape: [[546]], model variable shape: [[12]]. This variable will not be initialized from the checkpoint.\n",
      "W0808 04:47:11.808572 140380300470144 variables_helper.py:154] Variable [BoxPredictor_2/ClassPredictor/weights] is available in checkpoint, but has an incompatible shape with model variable. Checkpoint shape: [[1, 1, 512, 546]], model variable shape: [[1, 1, 512, 12]]. This variable will not be initialized from the checkpoint.\n",
      "W0808 04:47:11.808641 140380300470144 variables_helper.py:154] Variable [BoxPredictor_2/ClassPredictor/weights/ExponentialMovingAverage] is available in checkpoint, but has an incompatible shape with model variable. Checkpoint shape: [[1, 1, 512, 546]], model variable shape: [[1, 1, 512, 12]]. This variable will not be initialized from the checkpoint.\n",
      "W0808 04:47:11.808717 140380300470144 variables_helper.py:154] Variable [BoxPredictor_2/ClassPredictor/weights/RMSProp] is available in checkpoint, but has an incompatible shape with model variable. Checkpoint shape: [[1, 1, 512, 546]], model variable shape: [[1, 1, 512, 12]]. This variable will not be initialized from the checkpoint.\n",
      "W0808 04:47:11.808787 140380300470144 variables_helper.py:154] Variable [BoxPredictor_2/ClassPredictor/weights/RMSProp_1] is available in checkpoint, but has an incompatible shape with model variable. Checkpoint shape: [[1, 1, 512, 546]], model variable shape: [[1, 1, 512, 12]]. This variable will not be initialized from the checkpoint.\n",
      "W0808 04:47:11.808908 140380300470144 variables_helper.py:154] Variable [BoxPredictor_3/ClassPredictor/biases] is available in checkpoint, but has an incompatible shape with model variable. Checkpoint shape: [[546]], model variable shape: [[12]]. This variable will not be initialized from the checkpoint.\n",
      "W0808 04:47:11.808977 140380300470144 variables_helper.py:154] Variable [BoxPredictor_3/ClassPredictor/biases/ExponentialMovingAverage] is available in checkpoint, but has an incompatible shape with model variable. Checkpoint shape: [[546]], model variable shape: [[12]]. This variable will not be initialized from the checkpoint.\n",
      "W0808 04:47:11.809045 140380300470144 variables_helper.py:154] Variable [BoxPredictor_3/ClassPredictor/biases/RMSProp] is available in checkpoint, but has an incompatible shape with model variable. Checkpoint shape: [[546]], model variable shape: [[12]]. This variable will not be initialized from the checkpoint.\n",
      "W0808 04:47:11.809110 140380300470144 variables_helper.py:154] Variable [BoxPredictor_3/ClassPredictor/biases/RMSProp_1] is available in checkpoint, but has an incompatible shape with model variable. Checkpoint shape: [[546]], model variable shape: [[12]]. This variable will not be initialized from the checkpoint.\n",
      "W0808 04:47:11.809180 140380300470144 variables_helper.py:154] Variable [BoxPredictor_3/ClassPredictor/weights] is available in checkpoint, but has an incompatible shape with model variable. Checkpoint shape: [[1, 1, 256, 546]], model variable shape: [[1, 1, 256, 12]]. This variable will not be initialized from the checkpoint.\n",
      "W0808 04:47:11.809265 140380300470144 variables_helper.py:154] Variable [BoxPredictor_3/ClassPredictor/weights/ExponentialMovingAverage] is available in checkpoint, but has an incompatible shape with model variable. Checkpoint shape: [[1, 1, 256, 546]], model variable shape: [[1, 1, 256, 12]]. This variable will not be initialized from the checkpoint.\n",
      "W0808 04:47:11.809335 140380300470144 variables_helper.py:154] Variable [BoxPredictor_3/ClassPredictor/weights/RMSProp] is available in checkpoint, but has an incompatible shape with model variable. Checkpoint shape: [[1, 1, 256, 546]], model variable shape: [[1, 1, 256, 12]]. This variable will not be initialized from the checkpoint.\n",
      "W0808 04:47:11.809403 140380300470144 variables_helper.py:154] Variable [BoxPredictor_3/ClassPredictor/weights/RMSProp_1] is available in checkpoint, but has an incompatible shape with model variable. Checkpoint shape: [[1, 1, 256, 546]], model variable shape: [[1, 1, 256, 12]]. This variable will not be initialized from the checkpoint.\n",
      "W0808 04:47:11.809520 140380300470144 variables_helper.py:154] Variable [BoxPredictor_4/ClassPredictor/biases] is available in checkpoint, but has an incompatible shape with model variable. Checkpoint shape: [[546]], model variable shape: [[12]]. This variable will not be initialized from the checkpoint.\n",
      "W0808 04:47:11.809588 140380300470144 variables_helper.py:154] Variable [BoxPredictor_4/ClassPredictor/biases/ExponentialMovingAverage] is available in checkpoint, but has an incompatible shape with model variable. Checkpoint shape: [[546]], model variable shape: [[12]]. This variable will not be initialized from the checkpoint.\n",
      "W0808 04:47:11.809654 140380300470144 variables_helper.py:154] Variable [BoxPredictor_4/ClassPredictor/biases/RMSProp] is available in checkpoint, but has an incompatible shape with model variable. Checkpoint shape: [[546]], model variable shape: [[12]]. This variable will not be initialized from the checkpoint.\n",
      "W0808 04:47:11.810316 140380300470144 variables_helper.py:154] Variable [BoxPredictor_4/ClassPredictor/biases/RMSProp_1] is available in checkpoint, but has an incompatible shape with model variable. Checkpoint shape: [[546]], model variable shape: [[12]]. This variable will not be initialized from the checkpoint.\n",
      "W0808 04:47:11.811122 140380300470144 variables_helper.py:154] Variable [BoxPredictor_4/ClassPredictor/weights] is available in checkpoint, but has an incompatible shape with model variable. Checkpoint shape: [[1, 1, 256, 546]], model variable shape: [[1, 1, 256, 12]]. This variable will not be initialized from the checkpoint.\n",
      "W0808 04:47:11.811525 140380300470144 variables_helper.py:154] Variable [BoxPredictor_4/ClassPredictor/weights/ExponentialMovingAverage] is available in checkpoint, but has an incompatible shape with model variable. Checkpoint shape: [[1, 1, 256, 546]], model variable shape: [[1, 1, 256, 12]]. This variable will not be initialized from the checkpoint.\n",
      "W0808 04:47:11.811682 140380300470144 variables_helper.py:154] Variable [BoxPredictor_4/ClassPredictor/weights/RMSProp] is available in checkpoint, but has an incompatible shape with model variable. Checkpoint shape: [[1, 1, 256, 546]], model variable shape: [[1, 1, 256, 12]]. This variable will not be initialized from the checkpoint.\n",
      "W0808 04:47:11.811791 140380300470144 variables_helper.py:154] Variable [BoxPredictor_4/ClassPredictor/weights/RMSProp_1] is available in checkpoint, but has an incompatible shape with model variable. Checkpoint shape: [[1, 1, 256, 546]], model variable shape: [[1, 1, 256, 12]]. This variable will not be initialized from the checkpoint.\n",
      "W0808 04:47:11.812163 140380300470144 variables_helper.py:154] Variable [BoxPredictor_5/ClassPredictor/biases] is available in checkpoint, but has an incompatible shape with model variable. Checkpoint shape: [[546]], model variable shape: [[12]]. This variable will not be initialized from the checkpoint.\n",
      "W0808 04:47:11.812326 140380300470144 variables_helper.py:154] Variable [BoxPredictor_5/ClassPredictor/biases/ExponentialMovingAverage] is available in checkpoint, but has an incompatible shape with model variable. Checkpoint shape: [[546]], model variable shape: [[12]]. This variable will not be initialized from the checkpoint.\n",
      "W0808 04:47:11.812451 140380300470144 variables_helper.py:154] Variable [BoxPredictor_5/ClassPredictor/biases/RMSProp] is available in checkpoint, but has an incompatible shape with model variable. Checkpoint shape: [[546]], model variable shape: [[12]]. This variable will not be initialized from the checkpoint.\n",
      "W0808 04:47:11.812686 140380300470144 variables_helper.py:154] Variable [BoxPredictor_5/ClassPredictor/biases/RMSProp_1] is available in checkpoint, but has an incompatible shape with model variable. Checkpoint shape: [[546]], model variable shape: [[12]]. This variable will not be initialized from the checkpoint.\n",
      "W0808 04:47:11.812798 140380300470144 variables_helper.py:154] Variable [BoxPredictor_5/ClassPredictor/weights] is available in checkpoint, but has an incompatible shape with model variable. Checkpoint shape: [[1, 1, 128, 546]], model variable shape: [[1, 1, 128, 12]]. This variable will not be initialized from the checkpoint.\n",
      "W0808 04:47:11.812935 140380300470144 variables_helper.py:154] Variable [BoxPredictor_5/ClassPredictor/weights/ExponentialMovingAverage] is available in checkpoint, but has an incompatible shape with model variable. Checkpoint shape: [[1, 1, 128, 546]], model variable shape: [[1, 1, 128, 12]]. This variable will not be initialized from the checkpoint.\n",
      "W0808 04:47:11.813184 140380300470144 variables_helper.py:154] Variable [BoxPredictor_5/ClassPredictor/weights/RMSProp] is available in checkpoint, but has an incompatible shape with model variable. Checkpoint shape: [[1, 1, 128, 546]], model variable shape: [[1, 1, 128, 12]]. This variable will not be initialized from the checkpoint.\n",
      "W0808 04:47:11.813442 140380300470144 variables_helper.py:154] Variable [BoxPredictor_5/ClassPredictor/weights/RMSProp_1] is available in checkpoint, but has an incompatible shape with model variable. Checkpoint shape: [[1, 1, 128, 546]], model variable shape: [[1, 1, 128, 12]]. This variable will not be initialized from the checkpoint.\n",
      "W0808 04:47:11.816527 140380300470144 variables_helper.py:157] Variable [global_step] is not available in checkpoint\n",
      "W0808 04:47:12.859067 140380300470144 deprecation.py:323] From /usr/local/lib/python3.6/dist-packages/tensorflow/contrib/slim/python/slim/learning.py:742: Supervisor.__init__ (from tensorflow.python.training.supervisor) is deprecated and will be removed in a future version.\n",
      "Instructions for updating:\n",
      "Please switch to tf.train.MonitoredTrainingSession\n",
      "2019-08-08 04:47:14.170607: I tensorflow/core/platform/profile_utils/cpu_utils.cc:94] CPU Frequency: 2300000000 Hz\n",
      "2019-08-08 04:47:14.171031: I tensorflow/compiler/xla/service/service.cc:168] XLA service 0xed41c00 executing computations on platform Host. Devices:\n",
      "2019-08-08 04:47:14.171081: I tensorflow/compiler/xla/service/service.cc:175]   StreamExecutor device (0): <undefined>, <undefined>\n",
      "W0808 04:47:14.174897 140380300470144 deprecation.py:323] From /usr/local/lib/python3.6/dist-packages/tensorflow/python/training/saver.py:1276: checkpoint_exists (from tensorflow.python.training.checkpoint_management) is deprecated and will be removed in a future version.\n",
      "Instructions for updating:\n",
      "Use standard file APIs to check for files with this prefix.\n",
      "I0808 04:47:14.178662 140380300470144 saver.py:1280] Restoring parameters from training/model.ckpt-28876\n",
      "2019-08-08 04:47:15.559319: W tensorflow/compiler/jit/mark_for_compilation_pass.cc:1412] (One-time warning): Not using XLA:CPU for cluster because envvar TF_XLA_FLAGS=--tf_xla_cpu_global_jit was not set.  If you want XLA:CPU, either set that envvar, or use experimental_jit_scope to enable XLA:CPU.  To confirm that XLA is active, pass --vmodule=xla_compilation_cache=1 (as a proper command-line flag, not via TF_XLA_FLAGS) or set the envvar XLA_FLAGS=--xla_hlo_profile.\n",
      "W0808 04:47:18.805454 140380300470144 deprecation.py:323] From /usr/local/lib/python3.6/dist-packages/tensorflow/python/training/saver.py:1066: get_checkpoint_mtimes (from tensorflow.python.training.checkpoint_management) is deprecated and will be removed in a future version.\n",
      "Instructions for updating:\n",
      "Use standard file utilities to get mtimes.\n",
      "I0808 04:47:18.817895 140380300470144 session_manager.py:500] Running local_init_op.\n",
      "I0808 04:47:19.212990 140380300470144 session_manager.py:502] Done running local_init_op.\n",
      "I0808 04:47:26.661934 140380300470144 learning.py:754] Starting Session.\n",
      "I0808 04:47:26.943775 140379098367744 supervisor.py:1117] Saving checkpoint to path training/model.ckpt\n",
      "I0808 04:47:26.947455 140380300470144 learning.py:768] Starting Queues.\n",
      "I0808 04:47:42.989970 140379089975040 supervisor.py:1099] global_step/sec: 0\n",
      "I0808 04:47:47.537310 140379081582336 supervisor.py:1050] Recording summary at step 28876.\n",
      "I0808 04:47:56.224519 140380300470144 learning.py:507] global step 28877: loss = 6.0410 (28.046 sec/step)\n",
      "I0808 04:48:04.031562 140380300470144 learning.py:507] global step 28878: loss = 3.6314 (5.777 sec/step)\n",
      "I0808 04:48:12.435349 140380300470144 learning.py:507] global step 28879: loss = 5.3311 (7.128 sec/step)\n",
      "^C\n"
     ]
    }
   ],
   "source": [
    "!python legacy/train.py --logtostderr --train_dir=training/ --pipeline_config_path=training/ssd_mobilenet_v1_pets.config  --image_dir=images/"
   ]
  },
  {
   "cell_type": "code",
   "execution_count": 0,
   "metadata": {
    "id": "zuHIqxITFJOn",
    "colab_type": "code",
    "colab": {}
   },
   "outputs": [],
   "source": [
    "# !python export_inference_graph.py \\\n",
    "#     --input_type image_tensor \\\n",
    "#     --pipeline_config_path training/ssd_mobilenet_v1_pets.config \\\n",
    "#     --trained_checkpoint_prefix training/model.ckpt-28875 \\\n",
    "#     --output_directory tea_leaves_inference_graph "
   ]
  },
  {
   "cell_type": "code",
   "execution_count": 0,
   "metadata": {
    "id": "UBC7qu8kFSzw",
    "colab_type": "code",
    "colab": {}
   },
   "outputs": [],
   "source": [
    ""
   ]
  }
 ],
 "metadata": {
  "colab": {
   "name": "object-detection-tea-leaves.ipynb",
   "version": "0.3.2",
   "provenance": []
  },
  "kernelspec": {
   "name": "python3",
   "display_name": "Python 3"
  },
  "accelerator": "TPU"
 },
 "nbformat": 4,
 "nbformat_minor": 0
}
